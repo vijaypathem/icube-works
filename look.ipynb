{
 "cells": [
  {
   "cell_type": "code",
   "execution_count": null,
   "metadata": {},
   "outputs": [],
   "source": [
    "import pandas as pd \n",
    "pd.read_csv('data.csv')"
   ]
  },
  {
   "cell_type": "code",
   "execution_count": null,
   "metadata": {},
   "outputs": [],
   "source": [
    "vs=pd.read_csv('data.csv')\n",
    "vs['Date']=pd.to_datetime(vs['Date'])\n",
    "vs"
   ]
  },
  {
   "cell_type": "code",
   "execution_count": null,
   "metadata": {},
   "outputs": [],
   "source": [
    "ab=vs[vs['Narration'].str.contains('50200020158995',na=False)]\n"
   ]
  },
  {
   "cell_type": "code",
   "execution_count": null,
   "metadata": {},
   "outputs": [],
   "source": [
    "ab"
   ]
  },
  {
   "cell_type": "code",
   "execution_count": null,
   "metadata": {},
   "outputs": [],
   "source": [
    "vs.sort_values(by=['Date'])"
   ]
  },
  {
   "cell_type": "code",
   "execution_count": null,
   "metadata": {},
   "outputs": [],
   "source": [
    "vs['Date']=pd.to_datetime(vs['Date'])"
   ]
  },
  {
   "cell_type": "code",
   "execution_count": null,
   "metadata": {},
   "outputs": [],
   "source": [
    "vs"
   ]
  },
  {
   "cell_type": "code",
   "execution_count": null,
   "metadata": {},
   "outputs": [],
   "source": [
    "vs.sort_values(by=['Date'])"
   ]
  },
  {
   "cell_type": "markdown",
   "metadata": {},
   "source": []
  },
  {
   "cell_type": "code",
   "execution_count": null,
   "metadata": {},
   "outputs": [],
   "source": [
    "by=vs.loc[(vs['Date'].dt.month==6)]\n",
    "by"
   ]
  },
  {
   "cell_type": "code",
   "execution_count": null,
   "metadata": {},
   "outputs": [],
   "source": [
    "vs.loc[:,'Withdrawal Amt.']"
   ]
  },
  {
   "cell_type": "code",
   "execution_count": null,
   "metadata": {},
   "outputs": [],
   "source": [
    "import pandas as pd\n",
    "vs=pd.read_csv('data.csv')"
   ]
  },
  {
   "cell_type": "code",
   "execution_count": null,
   "metadata": {},
   "outputs": [],
   "source": [
    "vs['Narration']"
   ]
  },
  {
   "cell_type": "code",
   "execution_count": null,
   "metadata": {},
   "outputs": [],
   "source": [
    "hb=vs.Narration.str.extract(r'\\-(.+?)\\-')\n",
    "hb"
   ]
  },
  {
   "cell_type": "code",
   "execution_count": null,
   "metadata": {},
   "outputs": [],
   "source": [
    "hb.head(0)\n",
    "vs.head(0)"
   ]
  },
  {
   "cell_type": "code",
   "execution_count": null,
   "metadata": {},
   "outputs": [],
   "source": [
    "for data in vs['Date']:\n",
    "    print(data)"
   ]
  },
  {
   "cell_type": "code",
   "execution_count": null,
   "metadata": {},
   "outputs": [],
   "source": [
    "imps=vs[vs['Narration'].str.contains('IMPS',na=False)]"
   ]
  },
  {
   "cell_type": "code",
   "execution_count": null,
   "metadata": {},
   "outputs": [],
   "source": [
    "imps"
   ]
  },
  {
   "cell_type": "code",
   "execution_count": null,
   "metadata": {},
   "outputs": [],
   "source": [
    "num_imps=imps.Narration.str.extract(r'\\-(.+?)\\-')\n",
    "num_imps"
   ]
  },
  {
   "cell_type": "code",
   "execution_count": null,
   "metadata": {},
   "outputs": [],
   "source": [
    "neft=vs[vs['Narration'].str.contains('NEFT',na=False)]\n",
    "neft"
   ]
  },
  {
   "cell_type": "code",
   "execution_count": null,
   "metadata": {},
   "outputs": [],
   "source": [
    "num_neft=neft.Narration.str.extract(r'(?:.*DR-)(.+?)\\-')\n",
    "#expand=False).str.strip()"
   ]
  },
  {
   "cell_type": "code",
   "execution_count": null,
   "metadata": {},
   "outputs": [],
   "source": [
    "num_neft"
   ]
  },
  {
   "cell_type": "code",
   "execution_count": null,
   "metadata": {},
   "outputs": [],
   "source": [
    "tpt=vs[vs['Narration'].str.contains('TPT',na=False)]\n",
    "tpt"
   ]
  },
  {
   "cell_type": "code",
   "execution_count": null,
   "metadata": {},
   "outputs": [],
   "source": [
    "num_tpt=tpt.Narration.str.extract(r'(.+?)\\-')\n",
    "num_tpt"
   ]
  },
  {
   "cell_type": "code",
   "execution_count": null,
   "metadata": {},
   "outputs": [],
   "source": [
    "rtgs=vs[vs['Narration'].str.contains('RTGS',na=False)]\n",
    "rtgs"
   ]
  },
  {
   "cell_type": "code",
   "execution_count": null,
   "metadata": {},
   "outputs": [],
   "source": [
    "num_rtgs=rtgs.Narration.str.extract(r'(?:.*MUM-)(.+?)\\-')\n",
    "num_rtgs"
   ]
  },
  {
   "cell_type": "code",
   "execution_count": null,
   "metadata": {},
   "outputs": [],
   "source": [
    "nk=num_rtgs.values.tolist()"
   ]
  },
  {
   "cell_type": "code",
   "execution_count": null,
   "metadata": {},
   "outputs": [],
   "source": [
    "nk"
   ]
  },
  {
   "cell_type": "code",
   "execution_count": null,
   "metadata": {},
   "outputs": [],
   "source": [
    "for i in nk:\n",
    "    print(type(i))"
   ]
  },
  {
   "cell_type": "code",
   "execution_count": null,
   "metadata": {},
   "outputs": [],
   "source": [
    "nk"
   ]
  },
  {
   "cell_type": "code",
   "execution_count": null,
   "metadata": {},
   "outputs": [],
   "source": [
    "newlist=[]\n",
    "for i in nk:\n",
    "    for j in i:\n",
    "        newlist.append(j)\n",
    "newlist"
   ]
  },
  {
   "cell_type": "code",
   "execution_count": null,
   "metadata": {},
   "outputs": [],
   "source": [
    "newlist1=[*set(newlist)]"
   ]
  },
  {
   "cell_type": "code",
   "execution_count": null,
   "metadata": {},
   "outputs": [],
   "source": [
    "newlist1"
   ]
  },
  {
   "cell_type": "code",
   "execution_count": null,
   "metadata": {},
   "outputs": [],
   "source": [
    "cleanedList = [x for x in newlist1 if str(x) != 'nan']"
   ]
  },
  {
   "cell_type": "code",
   "execution_count": null,
   "metadata": {},
   "outputs": [],
   "source": [
    "cleanedList"
   ]
  },
  {
   "cell_type": "code",
   "execution_count": null,
   "metadata": {},
   "outputs": [],
   "source": [
    "rtgs_list=cleanedList"
   ]
  },
  {
   "cell_type": "code",
   "execution_count": null,
   "metadata": {},
   "outputs": [],
   "source": [
    "rtgs_list"
   ]
  },
  {
   "cell_type": "code",
   "execution_count": null,
   "metadata": {},
   "outputs": [],
   "source": [
    "kl=num_imps.values.tolist()"
   ]
  },
  {
   "cell_type": "code",
   "execution_count": null,
   "metadata": {},
   "outputs": [],
   "source": [
    "kl"
   ]
  },
  {
   "cell_type": "code",
   "execution_count": null,
   "metadata": {},
   "outputs": [],
   "source": [
    "h7=[]\n",
    "for i in kl:\n",
    "    for j in i:\n",
    "        h7.append(j)\n",
    "print(h7)\n"
   ]
  },
  {
   "cell_type": "code",
   "execution_count": null,
   "metadata": {},
   "outputs": [],
   "source": [
    "cl=[*set(h7)]\n",
    "cl"
   ]
  },
  {
   "cell_type": "code",
   "execution_count": null,
   "metadata": {},
   "outputs": [],
   "source": [
    "print(cl)"
   ]
  },
  {
   "cell_type": "code",
   "execution_count": null,
   "metadata": {},
   "outputs": [],
   "source": [
    "imps_list=cl"
   ]
  },
  {
   "cell_type": "code",
   "execution_count": null,
   "metadata": {},
   "outputs": [],
   "source": [
    "imps_list"
   ]
  },
  {
   "cell_type": "code",
   "execution_count": null,
   "metadata": {},
   "outputs": [],
   "source": [
    "h5=num_neft.values.tolist()\n",
    "h5"
   ]
  },
  {
   "cell_type": "code",
   "execution_count": null,
   "metadata": {},
   "outputs": [],
   "source": [
    "lj=[]\n",
    "for i in h5:\n",
    "    for j in i:\n",
    "        lj.append(j)\n"
   ]
  },
  {
   "cell_type": "code",
   "execution_count": null,
   "metadata": {},
   "outputs": [],
   "source": [
    "nj=[*set(lj)]"
   ]
  },
  {
   "cell_type": "code",
   "execution_count": null,
   "metadata": {},
   "outputs": [],
   "source": [
    "print(nj)"
   ]
  },
  {
   "cell_type": "code",
   "execution_count": null,
   "metadata": {},
   "outputs": [],
   "source": [
    "cb= [x for x in nj if str(x) != 'nan']"
   ]
  },
  {
   "cell_type": "code",
   "execution_count": null,
   "metadata": {},
   "outputs": [],
   "source": [
    "print(cb)"
   ]
  },
  {
   "cell_type": "code",
   "execution_count": null,
   "metadata": {},
   "outputs": [],
   "source": [
    "neft_list=cb"
   ]
  },
  {
   "cell_type": "code",
   "execution_count": null,
   "metadata": {},
   "outputs": [],
   "source": [
    "neft_list"
   ]
  },
  {
   "cell_type": "code",
   "execution_count": null,
   "metadata": {},
   "outputs": [],
   "source": [
    "df=num_tpt.values.tolist()"
   ]
  },
  {
   "cell_type": "code",
   "execution_count": null,
   "metadata": {},
   "outputs": [],
   "source": [
    "jm=[]\n",
    "for i in df:\n",
    "    for j in i:\n",
    "        jm.append(j)"
   ]
  },
  {
   "cell_type": "code",
   "execution_count": null,
   "metadata": {},
   "outputs": [],
   "source": [
    "mj=[*set(jm)]"
   ]
  },
  {
   "cell_type": "code",
   "execution_count": null,
   "metadata": {},
   "outputs": [],
   "source": [
    "print(mj)"
   ]
  },
  {
   "cell_type": "code",
   "execution_count": null,
   "metadata": {},
   "outputs": [],
   "source": [
    "tpt_list=mj"
   ]
  },
  {
   "cell_type": "code",
   "execution_count": null,
   "metadata": {},
   "outputs": [],
   "source": [
    "tpt_list"
   ]
  },
  {
   "cell_type": "code",
   "execution_count": null,
   "metadata": {},
   "outputs": [],
   "source": [
    "all_unique_num=imps_list+tpt_list+rtgs_list+neft_list"
   ]
  },
  {
   "cell_type": "code",
   "execution_count": null,
   "metadata": {},
   "outputs": [],
   "source": [
    "numbers=tpt_list+rtgs_list+neft_list\n",
    "print(numbers)"
   ]
  },
  {
   "cell_type": "code",
   "execution_count": null,
   "metadata": {},
   "outputs": [],
   "source": [
    "imps_numbers=['XXXXXX7655', 'XXXXXXXX7142', 'XXXXXXXXX2921', 'XXXXXXX4531', 'XXXXXXXXXXXX0633', 'XXXXXXXXXX8995', 'XXXXXXXXXXX0788', 'XXXXXXXXXXXX8837', 'XXXXXXX5479', 'XXXXXXXX1549', 'XXXXXXXXXX0717', 'XXXXXXXX0078', 'XXXXXXX7278', 'XXXXXXXXXXXX1346', 'XXXXXX3699', 'XXXXXXX9088', 'XXXXXXXX0874', 'XXXXXXXXXXX3836', 'XXXXXXXXXXX2732', 'XXXXXXXXXXX3389', 'XXXXXXX6206', 'XXXXXXXXXXXX1130', 'XXXXXXXX2258', 'XXXXXXXXXXX1435', 'XXXXXXXXXX2944', 'XXXXXX9251', 'XXXXXXXXXX6844', 'XXXXXXXXXXX0094', 'XXXXXXXX1856', 'XXXXXXXXXX0538', 'XXXXXXXXXX3765', 'XXXXXXXX4438', 'XXXXXXXX4908', 'XXXXXXXXXX0845', 'XXXXXXXXXX1056']\n",
    "present_list=imps_numbers+numbers"
   ]
  },
  {
   "cell_type": "code",
   "execution_count": null,
   "metadata": {},
   "outputs": [],
   "source": [
    "print(len(present_list))"
   ]
  },
  {
   "cell_type": "code",
   "execution_count": 27,
   "metadata": {},
   "outputs": [
    {
     "data": {
      "text/html": [
       "<div>\n",
       "<style scoped>\n",
       "    .dataframe tbody tr th:only-of-type {\n",
       "        vertical-align: middle;\n",
       "    }\n",
       "\n",
       "    .dataframe tbody tr th {\n",
       "        vertical-align: top;\n",
       "    }\n",
       "\n",
       "    .dataframe thead th {\n",
       "        text-align: right;\n",
       "    }\n",
       "</style>\n",
       "<table border=\"1\" class=\"dataframe\">\n",
       "  <thead>\n",
       "    <tr style=\"text-align: right;\">\n",
       "      <th></th>\n",
       "      <th>Unnamed: 0</th>\n",
       "      <th>Date</th>\n",
       "      <th>Narration</th>\n",
       "      <th>Value Dt</th>\n",
       "      <th>Withdrawal Amt.</th>\n",
       "      <th>Deposit Amt.</th>\n",
       "      <th>Closing Balance</th>\n",
       "    </tr>\n",
       "  </thead>\n",
       "  <tbody>\n",
       "    <tr>\n",
       "      <th>0</th>\n",
       "      <td>0</td>\n",
       "      <td>2022-05-13</td>\n",
       "      <td>IMPS-213318431529-RELIANCE RETAIL VENT-SCBL-XX...</td>\n",
       "      <td>13/05/22</td>\n",
       "      <td>NaN</td>\n",
       "      <td>1.0</td>\n",
       "      <td>202029.81</td>\n",
       "    </tr>\n",
       "    <tr>\n",
       "      <th>1</th>\n",
       "      <td>1</td>\n",
       "      <td>2022-05-16</td>\n",
       "      <td>50200020158995-TPT-PUFFER JACKET FABRIC-DAMAN ...</td>\n",
       "      <td>16/05/22</td>\n",
       "      <td>50000.0</td>\n",
       "      <td>NaN</td>\n",
       "      <td>152029.81</td>\n",
       "    </tr>\n",
       "    <tr>\n",
       "      <th>2</th>\n",
       "      <td>2</td>\n",
       "      <td>2022-05-17</td>\n",
       "      <td>50200020158995-TPT-JACKET-DAMAN TEXTILES</td>\n",
       "      <td>17/05/22</td>\n",
       "      <td>50000.0</td>\n",
       "      <td>NaN</td>\n",
       "      <td>102029.81</td>\n",
       "    </tr>\n",
       "    <tr>\n",
       "      <th>3</th>\n",
       "      <td>3</td>\n",
       "      <td>2022-05-23</td>\n",
       "      <td>NEFT DR-KKBK0000181-SAMRENDRA SUMAN-NETBANK, M...</td>\n",
       "      <td>23/05/22</td>\n",
       "      <td>7500.0</td>\n",
       "      <td>NaN</td>\n",
       "      <td>94529.81</td>\n",
       "    </tr>\n",
       "    <tr>\n",
       "      <th>4</th>\n",
       "      <td>4</td>\n",
       "      <td>2022-05-23</td>\n",
       "      <td>02581460000717-TPT-DOCPLUS BALANCE 2.5K-MEHREE...</td>\n",
       "      <td>23/05/22</td>\n",
       "      <td>7500.0</td>\n",
       "      <td>NaN</td>\n",
       "      <td>87029.81</td>\n",
       "    </tr>\n",
       "    <tr>\n",
       "      <th>...</th>\n",
       "      <td>...</td>\n",
       "      <td>...</td>\n",
       "      <td>...</td>\n",
       "      <td>...</td>\n",
       "      <td>...</td>\n",
       "      <td>...</td>\n",
       "      <td>...</td>\n",
       "    </tr>\n",
       "    <tr>\n",
       "      <th>235</th>\n",
       "      <td>235</td>\n",
       "      <td>2022-11-18</td>\n",
       "      <td>IMPS-232214193375-ENVIRO FASHION PVT LTD-CNRB-...</td>\n",
       "      <td>18/11/22</td>\n",
       "      <td>86221.0</td>\n",
       "      <td>NaN</td>\n",
       "      <td>1638787.09</td>\n",
       "    </tr>\n",
       "    <tr>\n",
       "      <th>236</th>\n",
       "      <td>236</td>\n",
       "      <td>2022-11-18</td>\n",
       "      <td>IMPS-232219105333-MADAN TRAVELS-YESB-XXXXXXXXX...</td>\n",
       "      <td>18/11/22</td>\n",
       "      <td>14500.0</td>\n",
       "      <td>NaN</td>\n",
       "      <td>1624287.09</td>\n",
       "    </tr>\n",
       "    <tr>\n",
       "      <th>237</th>\n",
       "      <td>237</td>\n",
       "      <td>2022-11-18</td>\n",
       "      <td>IMPS-232221163534-KUNAL S BHANDARI-PUNB-XXXXXX...</td>\n",
       "      <td>18/11/22</td>\n",
       "      <td>10000.0</td>\n",
       "      <td>NaN</td>\n",
       "      <td>1614287.09</td>\n",
       "    </tr>\n",
       "    <tr>\n",
       "      <th>238</th>\n",
       "      <td>238</td>\n",
       "      <td>2022-11-19</td>\n",
       "      <td>NaN</td>\n",
       "      <td>19/11/22</td>\n",
       "      <td>25000.0</td>\n",
       "      <td>NaN</td>\n",
       "      <td>1589287.09</td>\n",
       "    </tr>\n",
       "    <tr>\n",
       "      <th>239</th>\n",
       "      <td>239</td>\n",
       "      <td>2022-11-22</td>\n",
       "      <td>IMPS-232612166651-RAJNEESH INTERNATIONAL-JAKA-...</td>\n",
       "      <td>22/11/22</td>\n",
       "      <td>100250.0</td>\n",
       "      <td>NaN</td>\n",
       "      <td>1489037.09</td>\n",
       "    </tr>\n",
       "  </tbody>\n",
       "</table>\n",
       "<p>240 rows × 7 columns</p>\n",
       "</div>"
      ],
      "text/plain": [
       "     Unnamed: 0       Date                                          Narration  \\\n",
       "0             0 2022-05-13  IMPS-213318431529-RELIANCE RETAIL VENT-SCBL-XX...   \n",
       "1             1 2022-05-16  50200020158995-TPT-PUFFER JACKET FABRIC-DAMAN ...   \n",
       "2             2 2022-05-17           50200020158995-TPT-JACKET-DAMAN TEXTILES   \n",
       "3             3 2022-05-23  NEFT DR-KKBK0000181-SAMRENDRA SUMAN-NETBANK, M...   \n",
       "4             4 2022-05-23  02581460000717-TPT-DOCPLUS BALANCE 2.5K-MEHREE...   \n",
       "..          ...        ...                                                ...   \n",
       "235         235 2022-11-18  IMPS-232214193375-ENVIRO FASHION PVT LTD-CNRB-...   \n",
       "236         236 2022-11-18  IMPS-232219105333-MADAN TRAVELS-YESB-XXXXXXXXX...   \n",
       "237         237 2022-11-18  IMPS-232221163534-KUNAL S BHANDARI-PUNB-XXXXXX...   \n",
       "238         238 2022-11-19                                                NaN   \n",
       "239         239 2022-11-22  IMPS-232612166651-RAJNEESH INTERNATIONAL-JAKA-...   \n",
       "\n",
       "     Value Dt  Withdrawal Amt.  Deposit Amt.  Closing Balance  \n",
       "0    13/05/22              NaN           1.0        202029.81  \n",
       "1    16/05/22          50000.0           NaN        152029.81  \n",
       "2    17/05/22          50000.0           NaN        102029.81  \n",
       "3    23/05/22           7500.0           NaN         94529.81  \n",
       "4    23/05/22           7500.0           NaN         87029.81  \n",
       "..        ...              ...           ...              ...  \n",
       "235  18/11/22          86221.0           NaN       1638787.09  \n",
       "236  18/11/22          14500.0           NaN       1624287.09  \n",
       "237  18/11/22          10000.0           NaN       1614287.09  \n",
       "238  19/11/22          25000.0           NaN       1589287.09  \n",
       "239  22/11/22         100250.0           NaN       1489037.09  \n",
       "\n",
       "[240 rows x 7 columns]"
      ]
     },
     "execution_count": 27,
     "metadata": {},
     "output_type": "execute_result"
    }
   ],
   "source": [
    "import pandas as pd\n",
    "import csv\n",
    "df=pd.read_csv('data.csv', parse_dates=['Date'],dayfirst=True)\n",
    "df"
   ]
  },
  {
   "cell_type": "code",
   "execution_count": 35,
   "metadata": {},
   "outputs": [
    {
     "data": {
      "text/plain": [
       "4    02581460000717-TPT-DOCPLUS BALANCE 2.5K-MEHREE...\n",
       "Name: Narration, dtype: object"
      ]
     },
     "execution_count": 35,
     "metadata": {},
     "output_type": "execute_result"
    }
   ],
   "source": [
    "may_trs=df.loc[df['Date'].dt.month==5]\n",
    "may_trs['Narration'].tail(1)"
   ]
  },
  {
   "cell_type": "code",
   "execution_count": null,
   "metadata": {},
   "outputs": [],
   "source": [
    "import csv\n",
    "list_to_append=[]\n",
    "with open ('names.csv', 'a') as file:\n",
    "    header=['Number','Name']\n",
    "    thewriter=csv.writer(file)\n",
    "    thewriter.writerow(header)\n",
    "for num in present_list:\n",
    "    this_data=df[df['Narration'].str.contains(num,na=False)]\n",
    "    list_to_append.append(num)\n",
    "    list_to_append.append(this_data['Narration'].head(1))\n",
    "\n",
    "    with open ('names.csv', 'a') as file:\n",
    "        thewriter=csv.writer(file)\n",
    "        thewriter.writerow(list_to_append)\n",
    "    list_to_append.clear()\n"
   ]
  },
  {
   "cell_type": "code",
   "execution_count": null,
   "metadata": {},
   "outputs": [],
   "source": [
    "df[df['Narration'].str.contains('XXXXXX7655',na=False)]"
   ]
  },
  {
   "cell_type": "code",
   "execution_count": null,
   "metadata": {},
   "outputs": [],
   "source": [
    "\n",
    "df[df['Narration'].str.contains('672320013765',na=False)]\n"
   ]
  },
  {
   "cell_type": "code",
   "execution_count": null,
   "metadata": {},
   "outputs": [],
   "source": [
    "\n",
    "\n",
    "df[df['Narration'].str.contains('28457630000538',na=False)]\n",
    "#df[df['Narration'].str.contains('HDFCR52022072885231415',na=False)]\n",
    "#df[df['Narration'].str.contains('HDFCR52022061074668891',na=False)]\n",
    "#df[df['Narration'].str.contains('50200054209114',na=False)]\n",
    "#df[df['Narration'].str.contains('XXXXXXXX4438',na=False)]"
   ]
  },
  {
   "cell_type": "code",
   "execution_count": null,
   "metadata": {},
   "outputs": [],
   "source": [
    "df[df['Narration'].str.contains('UTIB0004799',na=False)]\n",
    "#df[df['Narration'].str.contains('UTIB0000055',na=False)]\n",
    "#df[df['Narration'].str.contains('50200007517403',na=False)]\n",
    "#df[df['Narration'].str.contains('UTIB0001104',na=False)]"
   ]
  },
  {
   "cell_type": "code",
   "execution_count": null,
   "metadata": {},
   "outputs": [],
   "source": [
    "df[df['Narration'].str.contains('XXXXXXXX1549',na=False)]"
   ]
  },
  {
   "cell_type": "code",
   "execution_count": null,
   "metadata": {},
   "outputs": [],
   "source": [
    "fn=pd.read_excel('FINAL_DATA.xlsx')\n",
    "fn"
   ]
  },
  {
   "cell_type": "code",
   "execution_count": null,
   "metadata": {},
   "outputs": [],
   "source": [
    "pooja=fn[fn['Name'].str.contains('POOJA',na=False)]\n",
    "pooja\n"
   ]
  },
  {
   "cell_type": "code",
   "execution_count": null,
   "metadata": {},
   "outputs": [],
   "source": [
    "df[df['Narration'].str.contains('POOJA',na=False)]"
   ]
  },
  {
   "cell_type": "code",
   "execution_count": null,
   "metadata": {},
   "outputs": [],
   "source": [
    "df[df['Narration'].str.contains('RUIA FABRICS',na=False)]"
   ]
  },
  {
   "cell_type": "code",
   "execution_count": null,
   "metadata": {},
   "outputs": [],
   "source": [
    "ruia_amount=0\n",
    "ruia=df[df['Narration'].str.contains('RUIA FABRICS',na=False)]\n",
    "for amount in ruia.loc[:,'Withdrawal Amt.']:\n",
    "    ruia_amount+=amount\n",
    "print(ruia_amount)\n"
   ]
  },
  {
   "cell_type": "code",
   "execution_count": null,
   "metadata": {},
   "outputs": [],
   "source": [
    "df"
   ]
  },
  {
   "cell_type": "code",
   "execution_count": null,
   "metadata": {},
   "outputs": [],
   "source": [
    "df['Withdrawal Amt.'].isna().sum()"
   ]
  },
  {
   "cell_type": "code",
   "execution_count": null,
   "metadata": {},
   "outputs": [],
   "source": [
    "type(df['Withdrawal Amt.'])"
   ]
  },
  {
   "cell_type": "code",
   "execution_count": null,
   "metadata": {},
   "outputs": [],
   "source": [
    "manish=df[df['Narration'].str.contains('MANISH KOTHARY',na=False)]"
   ]
  },
  {
   "cell_type": "code",
   "execution_count": null,
   "metadata": {},
   "outputs": [],
   "source": [
    "manish['Withdrawal Amt.'].isna().sum()"
   ]
  },
  {
   "cell_type": "code",
   "execution_count": 4,
   "metadata": {},
   "outputs": [
    {
     "data": {
      "text/html": [
       "<div>\n",
       "<style scoped>\n",
       "    .dataframe tbody tr th:only-of-type {\n",
       "        vertical-align: middle;\n",
       "    }\n",
       "\n",
       "    .dataframe tbody tr th {\n",
       "        vertical-align: top;\n",
       "    }\n",
       "\n",
       "    .dataframe thead th {\n",
       "        text-align: right;\n",
       "    }\n",
       "</style>\n",
       "<table border=\"1\" class=\"dataframe\">\n",
       "  <thead>\n",
       "    <tr style=\"text-align: right;\">\n",
       "      <th></th>\n",
       "      <th>Unnamed: 0</th>\n",
       "      <th>Date</th>\n",
       "      <th>Narration</th>\n",
       "      <th>Value Dt</th>\n",
       "      <th>Withdrawal Amt.</th>\n",
       "      <th>Deposit Amt.</th>\n",
       "      <th>Closing Balance</th>\n",
       "    </tr>\n",
       "  </thead>\n",
       "  <tbody>\n",
       "    <tr>\n",
       "      <th>7</th>\n",
       "      <td>7</td>\n",
       "      <td>06/06/22</td>\n",
       "      <td>NEFT DR-PUNB0742100-SACHIN-NETBANK, MUM-N15722...</td>\n",
       "      <td>06/06/22</td>\n",
       "      <td>9000.0</td>\n",
       "      <td>NaN</td>\n",
       "      <td>58029.81</td>\n",
       "    </tr>\n",
       "    <tr>\n",
       "      <th>23</th>\n",
       "      <td>23</td>\n",
       "      <td>02/07/22</td>\n",
       "      <td>NEFT DR-PUNB0742100-SACHIN-NETBANK, MUM-N18322...</td>\n",
       "      <td>02/07/22</td>\n",
       "      <td>30000.0</td>\n",
       "      <td>NaN</td>\n",
       "      <td>71375.81</td>\n",
       "    </tr>\n",
       "    <tr>\n",
       "      <th>44</th>\n",
       "      <td>44</td>\n",
       "      <td>29/07/22</td>\n",
       "      <td>NEFT DR-PUNB0742100-SACHIN-NETBANK, MUM-N21022...</td>\n",
       "      <td>29/07/22</td>\n",
       "      <td>20000.0</td>\n",
       "      <td>NaN</td>\n",
       "      <td>1195801.07</td>\n",
       "    </tr>\n",
       "    <tr>\n",
       "      <th>48</th>\n",
       "      <td>48</td>\n",
       "      <td>31/07/22</td>\n",
       "      <td>IMPS-221222158551-SACHIN-PUNB-XXXXXXXXXXXX8837...</td>\n",
       "      <td>01/08/22</td>\n",
       "      <td>10000.0</td>\n",
       "      <td>NaN</td>\n",
       "      <td>1008098.07</td>\n",
       "    </tr>\n",
       "    <tr>\n",
       "      <th>94</th>\n",
       "      <td>94</td>\n",
       "      <td>31/08/22</td>\n",
       "      <td>NEFT DR-PUNB0742100-SACHIN-NETBANK, MUM-N24322...</td>\n",
       "      <td>31/08/22</td>\n",
       "      <td>30000.0</td>\n",
       "      <td>NaN</td>\n",
       "      <td>696843.07</td>\n",
       "    </tr>\n",
       "    <tr>\n",
       "      <th>152</th>\n",
       "      <td>152</td>\n",
       "      <td>01/10/22</td>\n",
       "      <td>IMPS-227417146094-SACHIN-PUNB-XXXXXXXXXXXX8837...</td>\n",
       "      <td>01/10/22</td>\n",
       "      <td>30000.0</td>\n",
       "      <td>NaN</td>\n",
       "      <td>425876.57</td>\n",
       "    </tr>\n",
       "    <tr>\n",
       "      <th>209</th>\n",
       "      <td>209</td>\n",
       "      <td>02/11/22</td>\n",
       "      <td>NEFT DR-PUNB0742100-SACHIN-NETBANK, MUM-N30622...</td>\n",
       "      <td>02/11/22</td>\n",
       "      <td>15000.0</td>\n",
       "      <td>NaN</td>\n",
       "      <td>904825.29</td>\n",
       "    </tr>\n",
       "  </tbody>\n",
       "</table>\n",
       "</div>"
      ],
      "text/plain": [
       "     Unnamed: 0      Date                                          Narration  \\\n",
       "7             7  06/06/22  NEFT DR-PUNB0742100-SACHIN-NETBANK, MUM-N15722...   \n",
       "23           23  02/07/22  NEFT DR-PUNB0742100-SACHIN-NETBANK, MUM-N18322...   \n",
       "44           44  29/07/22  NEFT DR-PUNB0742100-SACHIN-NETBANK, MUM-N21022...   \n",
       "48           48  31/07/22  IMPS-221222158551-SACHIN-PUNB-XXXXXXXXXXXX8837...   \n",
       "94           94  31/08/22  NEFT DR-PUNB0742100-SACHIN-NETBANK, MUM-N24322...   \n",
       "152         152  01/10/22  IMPS-227417146094-SACHIN-PUNB-XXXXXXXXXXXX8837...   \n",
       "209         209  02/11/22  NEFT DR-PUNB0742100-SACHIN-NETBANK, MUM-N30622...   \n",
       "\n",
       "     Value Dt  Withdrawal Amt.  Deposit Amt.  Closing Balance  \n",
       "7    06/06/22           9000.0           NaN         58029.81  \n",
       "23   02/07/22          30000.0           NaN         71375.81  \n",
       "44   29/07/22          20000.0           NaN       1195801.07  \n",
       "48   01/08/22          10000.0           NaN       1008098.07  \n",
       "94   31/08/22          30000.0           NaN        696843.07  \n",
       "152  01/10/22          30000.0           NaN        425876.57  \n",
       "209  02/11/22          15000.0           NaN        904825.29  "
      ]
     },
     "execution_count": 4,
     "metadata": {},
     "output_type": "execute_result"
    }
   ],
   "source": [
    "df[df['Narration'].str.contains('SACHIN',na=False)]"
   ]
  },
  {
   "cell_type": "code",
   "execution_count": 41,
   "metadata": {},
   "outputs": [
    {
     "data": {
      "text/html": [
       "<div>\n",
       "<style scoped>\n",
       "    .dataframe tbody tr th:only-of-type {\n",
       "        vertical-align: middle;\n",
       "    }\n",
       "\n",
       "    .dataframe tbody tr th {\n",
       "        vertical-align: top;\n",
       "    }\n",
       "\n",
       "    .dataframe thead th {\n",
       "        text-align: right;\n",
       "    }\n",
       "</style>\n",
       "<table border=\"1\" class=\"dataframe\">\n",
       "  <thead>\n",
       "    <tr style=\"text-align: right;\">\n",
       "      <th></th>\n",
       "      <th>Unnamed: 0</th>\n",
       "      <th>Date</th>\n",
       "      <th>Narration</th>\n",
       "      <th>Value Dt</th>\n",
       "      <th>Withdrawal Amt.</th>\n",
       "      <th>Deposit Amt.</th>\n",
       "      <th>Closing Balance</th>\n",
       "    </tr>\n",
       "  </thead>\n",
       "  <tbody>\n",
       "    <tr>\n",
       "      <th>0</th>\n",
       "      <td>0</td>\n",
       "      <td>2022-05-13</td>\n",
       "      <td>IMPS-213318431529-RELIANCE RETAIL VENT-SCBL-XX...</td>\n",
       "      <td>13/05/22</td>\n",
       "      <td>NaN</td>\n",
       "      <td>1.0</td>\n",
       "      <td>202029.81</td>\n",
       "    </tr>\n",
       "    <tr>\n",
       "      <th>1</th>\n",
       "      <td>1</td>\n",
       "      <td>2022-05-16</td>\n",
       "      <td>50200020158995-TPT-PUFFER JACKET FABRIC-DAMAN ...</td>\n",
       "      <td>16/05/22</td>\n",
       "      <td>50000.0</td>\n",
       "      <td>NaN</td>\n",
       "      <td>152029.81</td>\n",
       "    </tr>\n",
       "    <tr>\n",
       "      <th>2</th>\n",
       "      <td>2</td>\n",
       "      <td>2022-05-17</td>\n",
       "      <td>50200020158995-TPT-JACKET-DAMAN TEXTILES</td>\n",
       "      <td>17/05/22</td>\n",
       "      <td>50000.0</td>\n",
       "      <td>NaN</td>\n",
       "      <td>102029.81</td>\n",
       "    </tr>\n",
       "    <tr>\n",
       "      <th>3</th>\n",
       "      <td>3</td>\n",
       "      <td>2022-05-23</td>\n",
       "      <td>NEFT DR-KKBK0000181-SAMRENDRA SUMAN-NETBANK, M...</td>\n",
       "      <td>23/05/22</td>\n",
       "      <td>7500.0</td>\n",
       "      <td>NaN</td>\n",
       "      <td>94529.81</td>\n",
       "    </tr>\n",
       "    <tr>\n",
       "      <th>4</th>\n",
       "      <td>4</td>\n",
       "      <td>2022-05-23</td>\n",
       "      <td>02581460000717-TPT-DOCPLUS BALANCE 2.5K-MEHREE...</td>\n",
       "      <td>23/05/22</td>\n",
       "      <td>7500.0</td>\n",
       "      <td>NaN</td>\n",
       "      <td>87029.81</td>\n",
       "    </tr>\n",
       "  </tbody>\n",
       "</table>\n",
       "</div>"
      ],
      "text/plain": [
       "   Unnamed: 0       Date                                          Narration  \\\n",
       "0           0 2022-05-13  IMPS-213318431529-RELIANCE RETAIL VENT-SCBL-XX...   \n",
       "1           1 2022-05-16  50200020158995-TPT-PUFFER JACKET FABRIC-DAMAN ...   \n",
       "2           2 2022-05-17           50200020158995-TPT-JACKET-DAMAN TEXTILES   \n",
       "3           3 2022-05-23  NEFT DR-KKBK0000181-SAMRENDRA SUMAN-NETBANK, M...   \n",
       "4           4 2022-05-23  02581460000717-TPT-DOCPLUS BALANCE 2.5K-MEHREE...   \n",
       "\n",
       "   Value Dt  Withdrawal Amt.  Deposit Amt.  Closing Balance  \n",
       "0  13/05/22              NaN           1.0        202029.81  \n",
       "1  16/05/22          50000.0           NaN        152029.81  \n",
       "2  17/05/22          50000.0           NaN        102029.81  \n",
       "3  23/05/22           7500.0           NaN         94529.81  \n",
       "4  23/05/22           7500.0           NaN         87029.81  "
      ]
     },
     "execution_count": 41,
     "metadata": {},
     "output_type": "execute_result"
    }
   ],
   "source": [
    "df.loc[df['Date'].dt.month==5]"
   ]
  },
  {
   "cell_type": "code",
   "execution_count": 56,
   "metadata": {},
   "outputs": [
    {
     "data": {
      "text/html": [
       "<div>\n",
       "<style scoped>\n",
       "    .dataframe tbody tr th:only-of-type {\n",
       "        vertical-align: middle;\n",
       "    }\n",
       "\n",
       "    .dataframe tbody tr th {\n",
       "        vertical-align: top;\n",
       "    }\n",
       "\n",
       "    .dataframe thead th {\n",
       "        text-align: right;\n",
       "    }\n",
       "</style>\n",
       "<table border=\"1\" class=\"dataframe\">\n",
       "  <thead>\n",
       "    <tr style=\"text-align: right;\">\n",
       "      <th></th>\n",
       "      <th>Unnamed: 0</th>\n",
       "      <th>Date</th>\n",
       "      <th>Narration</th>\n",
       "      <th>Value Dt</th>\n",
       "      <th>Withdrawal Amt.</th>\n",
       "      <th>Deposit Amt.</th>\n",
       "      <th>Closing Balance</th>\n",
       "    </tr>\n",
       "  </thead>\n",
       "  <tbody>\n",
       "    <tr>\n",
       "      <th>97</th>\n",
       "      <td>97</td>\n",
       "      <td>2022-09-01</td>\n",
       "      <td>NEFT DR-SBIN0018174-NISHANT MADAN-NETBANK, MUM...</td>\n",
       "      <td>01/09/22</td>\n",
       "      <td>15000.0</td>\n",
       "      <td>NaN</td>\n",
       "      <td>651843.07</td>\n",
       "    </tr>\n",
       "    <tr>\n",
       "      <th>155</th>\n",
       "      <td>155</td>\n",
       "      <td>2022-10-03</td>\n",
       "      <td>IMPS-227623185594-NISHANT MADAN-SBIN-XXXXXXX90...</td>\n",
       "      <td>04/10/22</td>\n",
       "      <td>7500.0</td>\n",
       "      <td>NaN</td>\n",
       "      <td>403376.57</td>\n",
       "    </tr>\n",
       "    <tr>\n",
       "      <th>171</th>\n",
       "      <td>171</td>\n",
       "      <td>2022-10-12</td>\n",
       "      <td>IMPS-228514199095-NISHANT MADAN-SBIN-XXXXXXX90...</td>\n",
       "      <td>12/10/22</td>\n",
       "      <td>7500.0</td>\n",
       "      <td>NaN</td>\n",
       "      <td>606798.17</td>\n",
       "    </tr>\n",
       "  </tbody>\n",
       "</table>\n",
       "</div>"
      ],
      "text/plain": [
       "     Unnamed: 0       Date                                          Narration  \\\n",
       "97           97 2022-09-01  NEFT DR-SBIN0018174-NISHANT MADAN-NETBANK, MUM...   \n",
       "155         155 2022-10-03  IMPS-227623185594-NISHANT MADAN-SBIN-XXXXXXX90...   \n",
       "171         171 2022-10-12  IMPS-228514199095-NISHANT MADAN-SBIN-XXXXXXX90...   \n",
       "\n",
       "     Value Dt  Withdrawal Amt.  Deposit Amt.  Closing Balance  \n",
       "97   01/09/22          15000.0           NaN        651843.07  \n",
       "155  04/10/22           7500.0           NaN        403376.57  \n",
       "171  12/10/22           7500.0           NaN        606798.17  "
      ]
     },
     "execution_count": 56,
     "metadata": {},
     "output_type": "execute_result"
    }
   ],
   "source": [
    "list=['AAKRITI PACKAGING INDUSTRIES', 'ACCORD CORPORATION', 'A LITTLE FABLE ONLINE RETAIL PRIVATE LTD', 'A S TRADING CO', 'BHARDWAJ QUILTS', 'ENVIRO FASHION PVT LTD', 'FAIZ OVERSEAS', 'GAGAN KUMAR', 'GAP ASSOCIATES', 'INTEX INC', 'JAI MAA PACKAGING', 'JAINCO FABRICS', 'JEEVAGAN S', 'KUNAL S BHANDARI', 'LOKESH FOAMSALES', 'MADAN TRAVELS', 'MANISH KOTHARY', 'MANJESH KUMAR', 'MUNMUN GARMENTS', 'NARANG THREADS', 'NARULA ENTERPRISES', 'NEW FASHION', 'NISHANT MADAN', 'OM ENTERPRISES', 'POOJA BUTTON STORE', 'PRABHAKAR NARAIN', 'PRATEEK PAI 003101634438', 'RAJENDRAN RAGHAVAN', 'RAJNEESH INTERNATIONAL', 'RIYA JINDAL', 'RK ENTERPRISES', 'ROHIT PARASHAR', 'RUIA FABRICS', 'RV INTERNATIONAL', 'SACHIN', 'SANCHIT FASHION FABRICS', 'S D TRADING CO', 'SHARIKA VERMA', 'SK TOP TRADERS', 'USHA FABS PVT ','RELIANCE RETAIL VENT','DAMAN TEXTILES','SAMRENDRA SUMAN','MEHREEN SAYEED SHEMNA']\n",
    "\n",
    "user=df[df['Narration'].str.contains('NISHANT MADAN',na=False)]\n",
    "user"
   ]
  },
  {
   "cell_type": "code",
   "execution_count": null,
   "metadata": {},
   "outputs": [],
   "source": []
  }
 ],
 "metadata": {
  "kernelspec": {
   "display_name": "Python 3.10.7 64-bit",
   "language": "python",
   "name": "python3"
  },
  "language_info": {
   "codemirror_mode": {
    "name": "ipython",
    "version": 3
   },
   "file_extension": ".py",
   "mimetype": "text/x-python",
   "name": "python",
   "nbconvert_exporter": "python",
   "pygments_lexer": "ipython3",
   "version": "3.10.7"
  },
  "orig_nbformat": 4,
  "vscode": {
   "interpreter": {
    "hash": "26de051ba29f2982a8de78e945f0abaf191376122a1563185a90213a26c5da77"
   }
  }
 },
 "nbformat": 4,
 "nbformat_minor": 2
}
